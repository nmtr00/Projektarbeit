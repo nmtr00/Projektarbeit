{
 "cells": [
  {
   "cell_type": "code",
   "execution_count": 162,
   "metadata": {},
   "outputs": [],
   "source": [
    "import pandas as pd\n",
    "import csv\n",
    "import os\n",
    "import matplotlib.pyplot as plt\n"
   ]
  },
  {
   "cell_type": "code",
   "execution_count": 163,
   "metadata": {},
   "outputs": [],
   "source": [
    "\n",
    "log_file_path = \".\\Druckversuch_data\\Test.txt\"\n",
    "with open(log_file_path, 'r') as file:\n",
    "    log_data = file.read()\n",
    "    \n"
   ]
  },
  {
   "cell_type": "code",
   "execution_count": 164,
   "metadata": {},
   "outputs": [],
   "source": [
    "# Filter out lines with unwanted values\n",
    "filtered_lines = [line for line in log_data.split('\\n') if not any(x in line for x in ['-1|-1|-1','-2|-2|-2', '-3|-3|-3'])]"
   ]
  },
  {
   "cell_type": "code",
   "execution_count": 165,
   "metadata": {},
   "outputs": [
    {
     "data": {
      "text/html": [
       "<div>\n",
       "<style scoped>\n",
       "    .dataframe tbody tr th:only-of-type {\n",
       "        vertical-align: middle;\n",
       "    }\n",
       "\n",
       "    .dataframe tbody tr th {\n",
       "        vertical-align: top;\n",
       "    }\n",
       "\n",
       "    .dataframe thead th {\n",
       "        text-align: right;\n",
       "    }\n",
       "</style>\n",
       "<table border=\"1\" class=\"dataframe\">\n",
       "  <thead>\n",
       "    <tr style=\"text-align: right;\">\n",
       "      <th></th>\n",
       "      <th>Zeit</th>\n",
       "      <th>Kraft</th>\n",
       "      <th>Abstand</th>\n",
       "    </tr>\n",
       "  </thead>\n",
       "  <tbody>\n",
       "    <tr>\n",
       "      <th>0</th>\n",
       "      <td>0.007</td>\n",
       "      <td>38.4366512298584</td>\n",
       "      <td>0.000147819519042969</td>\n",
       "    </tr>\n",
       "    <tr>\n",
       "      <th>1</th>\n",
       "      <td>0.018</td>\n",
       "      <td>39.4809246063232</td>\n",
       "      <td>-8.10623168945313E-05</td>\n",
       "    </tr>\n",
       "    <tr>\n",
       "      <th>2</th>\n",
       "      <td>0.029</td>\n",
       "      <td>39.5345687866211</td>\n",
       "      <td>6.19888305664063E-05</td>\n",
       "    </tr>\n",
       "    <tr>\n",
       "      <th>3</th>\n",
       "      <td>0.039</td>\n",
       "      <td>39.8790836334229</td>\n",
       "      <td>0.000147819519042969</td>\n",
       "    </tr>\n",
       "    <tr>\n",
       "      <th>4</th>\n",
       "      <td>0.049</td>\n",
       "      <td>41.729211807251</td>\n",
       "      <td>0.00158309936523438</td>\n",
       "    </tr>\n",
       "    <tr>\n",
       "      <th>...</th>\n",
       "      <td>...</td>\n",
       "      <td>...</td>\n",
       "      <td>...</td>\n",
       "    </tr>\n",
       "    <tr>\n",
       "      <th>4445</th>\n",
       "      <td>46.453</td>\n",
       "      <td>39.9661064147949</td>\n",
       "      <td>9.5367431640625E-05</td>\n",
       "    </tr>\n",
       "    <tr>\n",
       "      <th>4446</th>\n",
       "      <td>46.46</td>\n",
       "      <td>41.2958860397339</td>\n",
       "      <td>-0.00229835510253906</td>\n",
       "    </tr>\n",
       "    <tr>\n",
       "      <th>4447</th>\n",
       "      <td>46.472</td>\n",
       "      <td>40.7499074935913</td>\n",
       "      <td>-0.00296592712402344</td>\n",
       "    </tr>\n",
       "    <tr>\n",
       "      <th>4448</th>\n",
       "      <td>46.482</td>\n",
       "      <td>38.8741493225098</td>\n",
       "      <td>-0.00277996063232422</td>\n",
       "    </tr>\n",
       "    <tr>\n",
       "      <th>4449</th>\n",
       "      <td></td>\n",
       "      <td>None</td>\n",
       "      <td>None</td>\n",
       "    </tr>\n",
       "  </tbody>\n",
       "</table>\n",
       "<p>4450 rows × 3 columns</p>\n",
       "</div>"
      ],
      "text/plain": [
       "        Zeit             Kraft                Abstand\n",
       "0      0.007  38.4366512298584   0.000147819519042969\n",
       "1      0.018  39.4809246063232  -8.10623168945313E-05\n",
       "2      0.029  39.5345687866211   6.19888305664063E-05\n",
       "3      0.039  39.8790836334229   0.000147819519042969\n",
       "4      0.049   41.729211807251    0.00158309936523438\n",
       "...      ...               ...                    ...\n",
       "4445  46.453  39.9661064147949    9.5367431640625E-05\n",
       "4446   46.46  41.2958860397339   -0.00229835510253906\n",
       "4447  46.472  40.7499074935913   -0.00296592712402344\n",
       "4448  46.482  38.8741493225098   -0.00277996063232422\n",
       "4449                      None                   None\n",
       "\n",
       "[4450 rows x 3 columns]"
      ]
     },
     "execution_count": 165,
     "metadata": {},
     "output_type": "execute_result"
    }
   ],
   "source": [
    "#create a list to store datarows\n",
    "rows =[line.split('|') for line in filtered_lines[1:]]\n",
    "column_names = ['Zeit', 'Kraft', 'Abstand']\n",
    "\n",
    "df = pd.DataFrame(rows, columns= column_names)\n",
    "df"
   ]
  },
  {
   "cell_type": "code",
   "execution_count": 166,
   "metadata": {},
   "outputs": [
    {
     "data": {
      "text/plain": [
       "'Test'"
      ]
     },
     "execution_count": 166,
     "metadata": {},
     "output_type": "execute_result"
    }
   ],
   "source": [
    "file_name = os.path.splitext(os.path.basename(log_file_path))[0]\n",
    "file_name"
   ]
  },
  {
   "cell_type": "code",
   "execution_count": 167,
   "metadata": {},
   "outputs": [],
   "source": [
    "csv_file_path = f'.\\Druckversuch_data\\{file_name}.csv'\n",
    "df.to_csv(csv_file_path, index=False)"
   ]
  },
  {
   "cell_type": "code",
   "execution_count": 168,
   "metadata": {},
   "outputs": [],
   "source": [
    "df['Kraft'] = pd.to_numeric(df['Kraft'])\n",
    "df['Abstand'] = pd.to_numeric(df['Abstand'])\n",
    "df['Zeit'] = pd.to_numeric(df['Zeit'])"
   ]
  },
  {
   "cell_type": "code",
   "execution_count": 169,
   "metadata": {},
   "outputs": [
    {
     "ename": "TypeError",
     "evalue": "'float' object cannot be interpreted as an integer",
     "output_type": "error",
     "traceback": [
      "\u001b[1;31m---------------------------------------------------------------------------\u001b[0m",
      "\u001b[1;31mTypeError\u001b[0m                                 Traceback (most recent call last)",
      "Cell \u001b[1;32mIn[169], line 6\u001b[0m\n\u001b[0;32m      3\u001b[0m plt\u001b[38;5;241m.\u001b[39mylabel(\u001b[38;5;124m'\u001b[39m\u001b[38;5;124mKraft\u001b[39m\u001b[38;5;124m'\u001b[39m)\n\u001b[0;32m      5\u001b[0m \u001b[38;5;66;03m# Set x-axis and y-axis grid resolution\u001b[39;00m\n\u001b[1;32m----> 6\u001b[0m plt\u001b[38;5;241m.\u001b[39mxticks(\u001b[38;5;28;43mrange\u001b[39;49m\u001b[43m(\u001b[49m\u001b[38;5;28;43mint\u001b[39;49m\u001b[43m(\u001b[49m\u001b[38;5;28;43mmin\u001b[39;49m\u001b[43m(\u001b[49m\u001b[43mdf\u001b[49m\u001b[43m[\u001b[49m\u001b[38;5;124;43m'\u001b[39;49m\u001b[38;5;124;43mAbstand\u001b[39;49m\u001b[38;5;124;43m'\u001b[39;49m\u001b[43m]\u001b[49m\u001b[43m)\u001b[49m\u001b[43m)\u001b[49m\u001b[43m,\u001b[49m\u001b[43m \u001b[49m\u001b[38;5;28;43mint\u001b[39;49m\u001b[43m(\u001b[49m\u001b[38;5;28;43mmax\u001b[39;49m\u001b[43m(\u001b[49m\u001b[43mdf\u001b[49m\u001b[43m[\u001b[49m\u001b[38;5;124;43m'\u001b[39;49m\u001b[38;5;124;43mAbstand\u001b[39;49m\u001b[38;5;124;43m'\u001b[39;49m\u001b[43m]\u001b[49m\u001b[43m)\u001b[49m\u001b[43m)\u001b[49m\u001b[43m \u001b[49m\u001b[38;5;241;43m+\u001b[39;49m\u001b[43m \u001b[49m\u001b[38;5;241;43m1\u001b[39;49m\u001b[43m,\u001b[49m\u001b[43m \u001b[49m\u001b[38;5;241;43m0.5\u001b[39;49m\u001b[43m)\u001b[49m)\n\u001b[0;32m      7\u001b[0m plt\u001b[38;5;241m.\u001b[39myticks(\u001b[38;5;28mrange\u001b[39m(\u001b[38;5;28mint\u001b[39m(\u001b[38;5;28mmin\u001b[39m(df[\u001b[38;5;124m'\u001b[39m\u001b[38;5;124mKraft\u001b[39m\u001b[38;5;124m'\u001b[39m])), \u001b[38;5;28mint\u001b[39m(\u001b[38;5;28mmax\u001b[39m(df[\u001b[38;5;124m'\u001b[39m\u001b[38;5;124mKraft\u001b[39m\u001b[38;5;124m'\u001b[39m])) \u001b[38;5;241m+\u001b[39m \u001b[38;5;241m1\u001b[39m, \u001b[38;5;241m200\u001b[39m))\n\u001b[0;32m     10\u001b[0m plt\u001b[38;5;241m.\u001b[39mgrid(\u001b[38;5;28;01mTrue\u001b[39;00m)\n",
      "\u001b[1;31mTypeError\u001b[0m: 'float' object cannot be interpreted as an integer"
     ]
    },
    {
     "data": {
      "image/png": "[encoded data removed]",
      "text/plain": [
       "<Figure size 640x480 with 1 Axes>"
      ]
     },
     "metadata": {},
     "output_type": "display_data"
    }
   ],
   "source": [
    "plt.plot(df['Abstand'], df['Kraft'], linestyle = '-')\n",
    "plt.xlabel('Abstand')\n",
    "plt.ylabel('Kraft')\n",
    "\n",
    "# Set x-axis and y-axis grid resolution\n",
    "plt.xticks(range(int(min(df['Abstand'])), int(max(df['Abstand'])) + 1, 5))\n",
    "plt.yticks(range(int(min(df['Kraft'])), int(max(df['Kraft'])) + 1, 200))\n",
    "\n",
    "\n",
    "plt.grid(True)\n"
   ]
  }
 ],
 "metadata": {
  "kernelspec": {
   "display_name": ".venv",
   "language": "python",
   "name": "python3"
  },
  "language_info": {
   "codemirror_mode": {
    "name": "ipython",
    "version": 3
   },
   "file_extension": ".py",
   "mimetype": "text/x-python",
   "name": "python",
   "nbconvert_exporter": "python",
   "pygments_lexer": "ipython3",
   "version": "3.11.8"
  }
 },
 "nbformat": 4,
 "nbformat_minor": 2
}
